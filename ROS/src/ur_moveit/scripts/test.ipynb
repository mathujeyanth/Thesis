{
 "metadata": {
  "language_info": {
   "codemirror_mode": {
    "name": "ipython",
    "version": 3
   },
   "file_extension": ".py",
   "mimetype": "text/x-python",
   "name": "python",
   "nbconvert_exporter": "python",
   "pygments_lexer": "ipython3",
   "version": "3.8.8-final"
  },
  "orig_nbformat": 2,
  "kernelspec": {
   "name": "python388jvsc74a57bd0a8744c10bf10a54789aa769344a78ff9cacca16711cf7bb11a4e34e9e34d74f6",
   "display_name": "Python 3.8.8 64-bit ('thesis': conda)"
  }
 },
 "nbformat": 4,
 "nbformat_minor": 2,
 "cells": [
  {
   "cell_type": "code",
   "execution_count": 1,
   "metadata": {},
   "outputs": [],
   "source": [
    "from __future__ import print_function\n",
    "\n",
    "import rospy\n",
    "\n",
    "import sys\n",
    "import copy\n",
    "import math\n",
    "import moveit_commander\n",
    "\n",
    "import moveit_msgs.msg\n",
    "from moveit_msgs.msg import Constraints, JointConstraint, PositionConstraint, OrientationConstraint, BoundingVolume\n",
    "from sensor_msgs.msg import JointState, Image\n",
    "from moveit_msgs.msg import RobotState\n",
    "import geometry_msgs.msg\n",
    "from geometry_msgs.msg import Quaternion, Pose, PoseStamped\n",
    "from std_msgs.msg import String\n",
    "from moveit_commander.conversions import pose_to_list\n",
    "\n",
    "from ur_moveit.srv import MoverService, MoverServiceRequest, MoverServiceResponse\n",
    "from ur_moveit.msg import URMoveitJoints\n",
    "\n",
    "import jupyros as jr\n",
    "import os,time,sys"
   ]
  },
  {
   "source": [
    "## Subscribe to Robot"
   ],
   "cell_type": "markdown",
   "metadata": {}
  },
  {
   "cell_type": "code",
   "execution_count": 2,
   "metadata": {},
   "outputs": [],
   "source": [
    "rospy.init_node('jupyter_node_sub', anonymous=True)"
   ]
  },
  {
   "cell_type": "code",
   "execution_count": 3,
   "metadata": {},
   "outputs": [],
   "source": [
    "robot_angles = []"
   ]
  },
  {
   "cell_type": "code",
   "execution_count": 4,
   "metadata": {},
   "outputs": [],
   "source": [
    "def cb(URMoveitJoints):\n",
    "    global robot_angles\n",
    "    # print(URMoveitJoints)\n",
    "    robot_angles=[URMoveitJoints.joint_00,URMoveitJoints.joint_01,URMoveitJoints.joint_02,URMoveitJoints.joint_03,URMoveitJoints.joint_04,URMoveitJoints.joint_05]\n",
    "    # print([URMoveitJoints.joint_00,URMoveitJoints.joint_01,URMoveitJoints.joint_02,URMoveitJoints.joint_03,URMoveitJoints.joint_04,URMoveitJoints.joint_05],end='\\r')\n",
    "    # print(URMoveitJoints.joint_00,end='\\r')"
   ]
  },
  {
   "cell_type": "code",
   "execution_count": 5,
   "metadata": {},
   "outputs": [
    {
     "output_type": "display_data",
     "data": {
      "text/plain": "VBox(children=(HBox(children=(Button(description='Stop', style=ButtonStyle()),)), Output(layout=Layout(border=…",
      "application/vnd.jupyter.widget-view+json": {
       "version_major": 2,
       "version_minor": 0,
       "model_id": "dd8379c0e9874257ad1953048ada69c0"
      }
     },
     "metadata": {}
    }
   ],
   "source": [
    "jr.subscribe('/UR_Q',URMoveitJoints,cb)"
   ]
  },
  {
   "cell_type": "code",
   "execution_count": 6,
   "metadata": {},
   "outputs": [
    {
     "output_type": "execute_result",
     "data": {
      "text/plain": [
       "[-48.88398361206055,\n",
       " -39.4639778137207,\n",
       " -25.064029693603516,\n",
       " -115.40818786621094,\n",
       " 89.98777770996094,\n",
       " -138.8274688720703]"
      ]
     },
     "metadata": {},
     "execution_count": 6
    }
   ],
   "source": [
    "robot_angles"
   ]
  },
  {
   "source": [
    "## Publish to Robot"
   ],
   "cell_type": "markdown",
   "metadata": {}
  },
  {
   "cell_type": "code",
   "execution_count": 7,
   "metadata": {},
   "outputs": [],
   "source": [
    "joint_names = ['shoulder_pan_joint', 'shoulder_lift_joint', 'elbow_joint', 'wrist_1_joint', 'wrist_2_joint', 'wrist_3_joint']\n",
    "\n",
    "# Between Melodic and Noetic, the return type of plan() changed. moveit_commander has no __version__ variable, so checking the python version as a proxy\n",
    "if sys.version_info >= (3, 0):\n",
    "    def planCompat(plan):\n",
    "        return plan[1]\n",
    "else:\n",
    "    def planCompat(plan):\n",
    "        return plan\n",
    "        \n",
    "        \n",
    "\"\"\"\n",
    "    Given the start angles of the robot, plan a trajectory that ends at the destination pose.\n",
    "\"\"\"\n",
    "def plan_trajectory(move_group, destination_pose, start_joint_angles): \n",
    "    current_joint_state = JointState()\n",
    "    current_joint_state.name = joint_names\n",
    "    current_joint_state.position = start_joint_angles\n",
    "\n",
    "    moveit_robot_state = RobotState()\n",
    "    moveit_robot_state.joint_state = current_joint_state\n",
    "    move_group.set_start_state(moveit_robot_state)\n",
    "\n",
    "    move_group.set_pose_target(destination_pose)\n",
    "    print(current_joint_state)\n",
    "    print(current_joint_state)\n",
    "    print(move_group.plan())\n",
    "    return planCompat(move_group.plan())\n",
    "\n",
    "\n",
    "\"\"\"\n",
    "    Creates a pick and place plan using the four states below.\n",
    "    \n",
    "    1. Pre Grasp - position gripper directly above target object\n",
    "    2. Grasp - lower gripper so that fingers are on either side of object\n",
    "    3. Pick Up - raise gripper back to the pre grasp position\n",
    "    4. Place - move gripper to desired placement position\n",
    "    Gripper behaviour is handled outside of this trajectory planning.\n",
    "        - Gripper close occurs after 'grasp' position has been achieved\n",
    "        - Gripper open occurs after 'place' position has been achieved\n",
    "    https://github.com/ros-planning/moveit/blob/master/moveit_commander/src/moveit_commander/move_group.py\n",
    "\"\"\"\n",
    "def plan_pick_and_place(req):\n",
    "    setup_scene()\n",
    "\n",
    "    response = MoverServiceResponse()\n",
    "\n",
    "    current_robot_joint_configuration = [\n",
    "        math.radians(req.joints_input.joint_00),\n",
    "        math.radians(req.joints_input.joint_01),\n",
    "        math.radians(req.joints_input.joint_02),\n",
    "        math.radians(req.joints_input.joint_03),\n",
    "        math.radians(req.joints_input.joint_04),\n",
    "        math.radians(req.joints_input.joint_05),\n",
    "    ]\n",
    "\n",
    "    # Pre grasp - position gripper directly above target object\n",
    "    pre_grasp_pose = plan_trajectory(move_group, req.pick_pose, current_robot_joint_configuration)\n",
    "\n",
    "    previous_ending_joint_angles = pre_grasp_pose.joint_trajectory.points[-1].positions\n",
    "    response.trajectories.append(pre_grasp_pose)\n",
    "\n",
    "    # Grasp - lower gripper so that fingers are on either side of object\n",
    "    pick_pose = copy.deepcopy(req.pick_pose)\n",
    "    pick_pose.position.z -= 0.075  # Static value coming from Unity, TODO: pass along with request\n",
    "    grasp_pose = plan_trajectory(move_group, pick_pose, previous_ending_joint_angles)\n",
    "\n",
    "    previous_ending_joint_angles = grasp_pose.joint_trajectory.points[-1].positions\n",
    "    response.trajectories.append(grasp_pose)\n",
    "\n",
    "    # Pick Up - raise gripper back to the pre grasp position\n",
    "    pick_up_pose = plan_trajectory(move_group, req.pick_pose, previous_ending_joint_angles)\n",
    "\n",
    "    previous_ending_joint_angles = pick_up_pose.joint_trajectory.points[-1].positions\n",
    "    response.trajectories.append(pick_up_pose)\n",
    "\n",
    "    # Place - move gripper to desired placement position\n",
    "    place_pose = plan_trajectory(move_group, req.place_pose, previous_ending_joint_angles)\n",
    "\n",
    "    previous_ending_joint_angles = place_pose.joint_trajectory.points[-1].positions\n",
    "    response.trajectories.append(place_pose)\n",
    "\n",
    "    # Post place - lift gripper after placement position\n",
    "    place_pose = copy.deepcopy(req.place_pose)\n",
    "    place_pose.position.z += 0.075 # Static value offset to lift up gripper\n",
    "    post_place_pose = plan_trajectory(move_group, place_pose, previous_ending_joint_angles)\n",
    "\n",
    "    previous_ending_joint_angles = post_place_pose.joint_trajectory.points[-1].positions\n",
    "    response.trajectories.append(post_place_pose)\n",
    "\n",
    "    move_group.clear_pose_targets()\n",
    "    return response\n",
    "\n",
    "def setup_scene():\n",
    "    global move_group\n",
    "    \n",
    "    group_name = \"arm\"\n",
    "    move_group = moveit_commander.MoveGroupCommander(group_name)\n",
    "\n",
    "    # Add table collider to MoveIt scene\n",
    "    scene = moveit_commander.PlanningSceneInterface()\n",
    "    robot = moveit_commander.RobotCommander()\n",
    "    rospy.sleep(2)\n",
    "\n",
    "    p = PoseStamped()\n",
    "    p.header.frame_id = move_group.get_planning_frame()\n",
    "    p = set_pose(p, [0, 0, -0.02+0.77])\n",
    "    scene.add_box(\"table\", p, (1.2, 1.8, 0.01))\n",
    "\n",
    "def set_pose(poseStamped, pose):\n",
    "    '''\n",
    "    pose is an array: [x, y, z]\n",
    "    '''\n",
    "    poseStamped.pose.position.x = pose[0]\n",
    "    poseStamped.pose.position.y = pose[1]\n",
    "    poseStamped.pose.position.z = pose[2]\n",
    "    return poseStamped"
   ]
  },
  {
   "cell_type": "code",
   "execution_count": 10,
   "metadata": {},
   "outputs": [
    {
     "output_type": "error",
     "ename": "ROSException",
     "evalue": "rospy.init_node() has already been called with different arguments: ('jupyter_node_sub', ['/home/jeyanth/.local/lib/python3.8/site-packages/ipykernel_launcher.py', '--ip=127.0.0.1', '--stdin=9273', '--control=9271', '--hb=9270', '--Session.signature_scheme=\"hmac-sha256\"', '--Session.key=b\"c8f5179c-21c9-47d9-845a-784d1a61fe9e\"', '--shell=9272', '--transport=\"tcp\"', '--iopub=9274', '--f=/tmp/tmp-17907DXUvZFAD0cIa.json'], True, None, False, False)",
     "traceback": [
      "\u001b[0;31m---------------------------------------------------------------------------\u001b[0m",
      "\u001b[0;31mROSException\u001b[0m                              Traceback (most recent call last)",
      "\u001b[0;32m<ipython-input-10-64a74848636c>\u001b[0m in \u001b[0;36m<module>\u001b[0;34m\u001b[0m\n\u001b[1;32m      1\u001b[0m \u001b[0mmoveit_commander\u001b[0m\u001b[0;34m.\u001b[0m\u001b[0mroscpp_initialize\u001b[0m\u001b[0;34m(\u001b[0m\u001b[0msys\u001b[0m\u001b[0;34m.\u001b[0m\u001b[0margv\u001b[0m\u001b[0;34m)\u001b[0m\u001b[0;34m\u001b[0m\u001b[0;34m\u001b[0m\u001b[0m\n\u001b[0;32m----> 2\u001b[0;31m \u001b[0mrospy\u001b[0m\u001b[0;34m.\u001b[0m\u001b[0minit_node\u001b[0m\u001b[0;34m(\u001b[0m\u001b[0;34m'jupyter_node_pub'\u001b[0m\u001b[0;34m,\u001b[0m \u001b[0manonymous\u001b[0m\u001b[0;34m=\u001b[0m\u001b[0;32mTrue\u001b[0m\u001b[0;34m)\u001b[0m\u001b[0;34m\u001b[0m\u001b[0;34m\u001b[0m\u001b[0m\n\u001b[0m",
      "\u001b[0;32m/opt/ros/noetic/lib/python3/dist-packages/rospy/client.py\u001b[0m in \u001b[0;36minit_node\u001b[0;34m(name, argv, anonymous, log_level, disable_rostime, disable_rosout, disable_signals, xmlrpc_port, tcpros_port)\u001b[0m\n\u001b[1;32m    272\u001b[0m     \u001b[0;32mif\u001b[0m \u001b[0m_init_node_args\u001b[0m\u001b[0;34m:\u001b[0m\u001b[0;34m\u001b[0m\u001b[0;34m\u001b[0m\u001b[0m\n\u001b[1;32m    273\u001b[0m         \u001b[0;32mif\u001b[0m \u001b[0m_init_node_args\u001b[0m \u001b[0;34m!=\u001b[0m \u001b[0;34m(\u001b[0m\u001b[0mname\u001b[0m\u001b[0;34m,\u001b[0m \u001b[0margv\u001b[0m\u001b[0;34m,\u001b[0m \u001b[0manonymous\u001b[0m\u001b[0;34m,\u001b[0m \u001b[0mlog_level\u001b[0m\u001b[0;34m,\u001b[0m \u001b[0mdisable_rostime\u001b[0m\u001b[0;34m,\u001b[0m \u001b[0mdisable_signals\u001b[0m\u001b[0;34m)\u001b[0m\u001b[0;34m:\u001b[0m\u001b[0;34m\u001b[0m\u001b[0;34m\u001b[0m\u001b[0m\n\u001b[0;32m--> 274\u001b[0;31m             \u001b[0;32mraise\u001b[0m \u001b[0mrospy\u001b[0m\u001b[0;34m.\u001b[0m\u001b[0mexceptions\u001b[0m\u001b[0;34m.\u001b[0m\u001b[0mROSException\u001b[0m\u001b[0;34m(\u001b[0m\u001b[0;34m\"rospy.init_node() has already been called with different arguments: \"\u001b[0m\u001b[0;34m+\u001b[0m\u001b[0mstr\u001b[0m\u001b[0;34m(\u001b[0m\u001b[0m_init_node_args\u001b[0m\u001b[0;34m)\u001b[0m\u001b[0;34m)\u001b[0m\u001b[0;34m\u001b[0m\u001b[0;34m\u001b[0m\u001b[0m\n\u001b[0m\u001b[1;32m    275\u001b[0m         \u001b[0;32melse\u001b[0m\u001b[0;34m:\u001b[0m\u001b[0;34m\u001b[0m\u001b[0;34m\u001b[0m\u001b[0m\n\u001b[1;32m    276\u001b[0m             \u001b[0;32mreturn\u001b[0m \u001b[0;31m#already initialized\u001b[0m\u001b[0;34m\u001b[0m\u001b[0;34m\u001b[0m\u001b[0m\n",
      "\u001b[0;31mROSException\u001b[0m: rospy.init_node() has already been called with different arguments: ('jupyter_node_sub', ['/home/jeyanth/.local/lib/python3.8/site-packages/ipykernel_launcher.py', '--ip=127.0.0.1', '--stdin=9273', '--control=9271', '--hb=9270', '--Session.signature_scheme=\"hmac-sha256\"', '--Session.key=b\"c8f5179c-21c9-47d9-845a-784d1a61fe9e\"', '--shell=9272', '--transport=\"tcp\"', '--iopub=9274', '--f=/tmp/tmp-17907DXUvZFAD0cIa.json'], True, None, False, False)"
     ]
    }
   ],
   "source": [
    "moveit_commander.roscpp_initialize(sys.argv)\n",
    "rospy.init_node('jupyter_node_pub', anonymous=True)"
   ]
  },
  {
   "cell_type": "code",
   "execution_count": 12,
   "metadata": {},
   "outputs": [
    {
     "output_type": "stream",
     "name": "stdout",
     "text": [
      "header: \n",
      "  seq: 0\n",
      "  stamp: \n",
      "    secs: 0\n",
      "    nsecs:         0\n",
      "  frame_id: ''\n",
      "name: \n",
      "  - shoulder_pan_joint\n",
      "  - shoulder_lift_joint\n",
      "  - elbow_joint\n",
      "  - wrist_1_joint\n",
      "  - wrist_2_joint\n",
      "  - wrist_3_joint\n",
      "position: [-0.853186465521407, -0.6887763487834198, -0.4374498419710069, -2.01425286202555, 1.5705830075915812, -2.4229964240275654]\n",
      "velocity: []\n",
      "effort: []\n",
      "header: \n",
      "  seq: 0\n",
      "  stamp: \n",
      "    secs: 0\n",
      "    nsecs:         0\n",
      "  frame_id: ''\n",
      "name: \n",
      "  - shoulder_pan_joint\n",
      "  - shoulder_lift_joint\n",
      "  - elbow_joint\n",
      "  - wrist_1_joint\n",
      "  - wrist_2_joint\n",
      "  - wrist_3_joint\n",
      "position: [-0.853186465521407, -0.6887763487834198, -0.4374498419710069, -2.01425286202555, 1.5705830075915812, -2.4229964240275654]\n",
      "velocity: []\n",
      "effort: []\n",
      "(False, joint_trajectory: \n",
      "  header: \n",
      "    seq: 0\n",
      "    stamp: \n",
      "      secs: 0\n",
      "      nsecs:         0\n",
      "    frame_id: ''\n",
      "  joint_names: []\n",
      "  points: []\n",
      "multi_dof_joint_trajectory: \n",
      "  header: \n",
      "    seq: 0\n",
      "    stamp: \n",
      "      secs: 0\n",
      "      nsecs:         0\n",
      "    frame_id: ''\n",
      "  joint_names: []\n",
      "  points: [], 6.92129733810923e-310, val: -1)\n"
     ]
    },
    {
     "output_type": "error",
     "ename": "IndexError",
     "evalue": "list index out of range",
     "traceback": [
      "\u001b[0;31m---------------------------------------------------------------------------\u001b[0m",
      "\u001b[0;31mIndexError\u001b[0m                                Traceback (most recent call last)",
      "\u001b[0;32m<ipython-input-12-35d0a4c78fa2>\u001b[0m in \u001b[0;36m<module>\u001b[0;34m\u001b[0m\n\u001b[1;32m     10\u001b[0m \u001b[0mpre_grasp_pose\u001b[0m \u001b[0;34m=\u001b[0m \u001b[0mplan_trajectory\u001b[0m\u001b[0;34m(\u001b[0m\u001b[0mmove_group\u001b[0m\u001b[0;34m,\u001b[0m \u001b[0mpick_pose\u001b[0m\u001b[0;34m,\u001b[0m \u001b[0mcurrent_robot_joint_configuration\u001b[0m\u001b[0;34m)\u001b[0m\u001b[0;34m\u001b[0m\u001b[0;34m\u001b[0m\u001b[0m\n\u001b[1;32m     11\u001b[0m \u001b[0;34m\u001b[0m\u001b[0m\n\u001b[0;32m---> 12\u001b[0;31m \u001b[0mprevious_ending_joint_angles\u001b[0m \u001b[0;34m=\u001b[0m \u001b[0mpre_grasp_pose\u001b[0m\u001b[0;34m.\u001b[0m\u001b[0mjoint_trajectory\u001b[0m\u001b[0;34m.\u001b[0m\u001b[0mpoints\u001b[0m\u001b[0;34m[\u001b[0m\u001b[0;34m-\u001b[0m\u001b[0;36m1\u001b[0m\u001b[0;34m]\u001b[0m\u001b[0;34m.\u001b[0m\u001b[0mpositions\u001b[0m\u001b[0;34m\u001b[0m\u001b[0;34m\u001b[0m\u001b[0m\n\u001b[0m\u001b[1;32m     13\u001b[0m \u001b[0mtrajectories\u001b[0m\u001b[0;34m.\u001b[0m\u001b[0mappend\u001b[0m\u001b[0;34m(\u001b[0m\u001b[0mpre_grasp_pose\u001b[0m\u001b[0;34m)\u001b[0m\u001b[0;34m\u001b[0m\u001b[0;34m\u001b[0m\u001b[0m\n\u001b[1;32m     14\u001b[0m \u001b[0;34m\u001b[0m\u001b[0m\n",
      "\u001b[0;31mIndexError\u001b[0m: list index out of range"
     ]
    }
   ],
   "source": [
    "from geometry_msgs.msg import Point\n",
    "\n",
    "setup_scene()\n",
    "current_robot_joint_configuration = [math.radians(angle) for angle in robot_angles]\n",
    "pick_pose = Pose()\n",
    "pick_pose.position = Point(0.2,0.8,-0.3)\n",
    "trajectories = []\n",
    "\n",
    "# Pre grasp - position gripper directly above target object\n",
    "pre_grasp_pose = plan_trajectory(move_group, pick_pose, current_robot_joint_configuration)\n",
    "\n",
    "previous_ending_joint_angles = pre_grasp_pose.joint_trajectory.points[-1].positions\n",
    "trajectories.append(pre_grasp_pose)\n",
    "\n",
    "# Grasp - lower gripper so that fingers are on either side of object\n",
    "new_pick_pose = copy.deepcopy(pick_pose)\n",
    "new_pick_pose.position.z -= 0.075  # Static value coming from Unity, TODO: pass along with request\n",
    "grasp_pose = plan_trajectory(move_group, new_pick_pose, previous_ending_joint_angles)\n",
    "\n",
    "previous_ending_joint_angles = grasp_pose.joint_trajectory.points[-1].positions\n",
    "trajectories.append(grasp_pose)\n",
    "move_group.clear_pose_targets()"
   ]
  },
  {
   "cell_type": "code",
   "execution_count": null,
   "metadata": {},
   "outputs": [],
   "source": [
    "trajectories"
   ]
  },
  {
   "cell_type": "code",
   "execution_count": null,
   "metadata": {},
   "outputs": [],
   "source": [
    "def post_color():\n",
    "    pub = rospy.Publisher('UR_pub', UnityColor, queue_size=10)\n",
    "    rate = rospy.Rate(10)  # 10hz\n",
    "\n",
    "    while not rospy.is_shutdown():\n",
    "\n",
    "        r = random.randint(0, 255)\n",
    "        g = random.randint(0, 255)\n",
    "        b = random.randint(0, 255)\n",
    "        color = UnityColor(r, g, b, 1)\n",
    "        pub.publish(color)\n",
    "        rate.sleep()\n",
    "        break"
   ]
  },
  {
   "cell_type": "code",
   "execution_count": 21,
   "metadata": {},
   "outputs": [
    {
     "output_type": "display_data",
     "data": {
      "text/plain": "VBox(children=(HBox(children=(Label(value='joint_00', layout=Layout(width='100px')), FloatText(value=0.0))), H…",
      "application/vnd.jupyter.widget-view+json": {
       "version_major": 2,
       "version_minor": 0,
       "model_id": "ec4abe916efc4e278fa7d2d360c11e70"
      }
     },
     "metadata": {}
    }
   ],
   "source": [
    "jr.publish('/UR_pub',URMoveitJoints)"
   ]
  },
  {
   "source": [
    "# PyKDL"
   ],
   "cell_type": "markdown",
   "metadata": {}
  },
  {
   "cell_type": "code",
   "execution_count": 1,
   "metadata": {},
   "outputs": [],
   "source": [
    "import kdl_parser_py.urdf as kdl_parser\n",
    "import PyKDL as kdl\n",
    "import rospkg"
   ]
  },
  {
   "cell_type": "code",
   "execution_count": 2,
   "metadata": {},
   "outputs": [
    {
     "output_type": "stream",
     "name": "stdout",
     "text": [
      "<bound method PyCapsule.getChain of base_link(q_nr: 0)\n \tbase_link_inertia(q_nr: 0)\n \tshoulder_link(q_nr: 0)\n \tupper_arm_link(q_nr: 1)\n \tforearm_link(q_nr: 2)\n \twrist_1_link(q_nr: 3)\n \twrist_2_link(q_nr: 4)\n \twrist_3_link(q_nr: 5)\n \tflange(q_nr: 0)\n \ttool0(q_nr: 0)\n \t\n\t\n\t\n\t\n\t\n\t\n\t\n\t\n\t\n\tbase(q_nr: 0)\n \t\n\t\n>\n"
     ]
    }
   ],
   "source": [
    "(status, tree) = kdl_parser.treeFromFile(rospkg.RosPack().get_path('ur_description')+'/urdf/ur3e.urdf')\n",
    "print(tree.getChain)\n",
    "chain = tree.getChain(\"base_link\", \"flange\")"
   ]
  },
  {
   "cell_type": "code",
   "execution_count": 4,
   "metadata": {},
   "outputs": [],
   "source": [
    "fk_solver = kdl.ChainFkSolverPos_recursive(chain)\n",
    "vel_ik_solver = kdl.ChainIkSolverVel_pinv(chain,0.0001,1000)\n",
    "ik_solver = kdl.ChainIkSolverPos_NR(chain,fk_solver,vel_ik_solver,1000)"
   ]
  },
  {
   "cell_type": "code",
   "execution_count": 5,
   "metadata": {},
   "outputs": [
    {
     "output_type": "stream",
     "name": "stdout",
     "text": [
      "[[ 2.51179e-26,          -1, 1.83697e-16;\n            1, 6.27948e-26, 2.05103e-10;\n -2.05103e-10, 1.83697e-16,           1]\n[     0.45675,     0.22315,      0.0665]]\n"
     ]
    }
   ],
   "source": [
    "tcp_start = kdl.Frame()\n",
    "Q_start = kdl.JntArray(6)\n",
    "fk_solver.JntToCart(Q_start,tcp_start)\n",
    "print(tcp_start)"
   ]
  },
  {
   "cell_type": "code",
   "execution_count": 6,
   "metadata": {},
   "outputs": [
    {
     "output_type": "execute_result",
     "data": {
      "text/plain": [
       "[    -447.011    -352.514     -1204.7     840.929     746.794     358.142]"
      ]
     },
     "metadata": {},
     "execution_count": 6
    }
   ],
   "source": [
    "tcp_goal = tcp_start*kdl.Frame(kdl.Rotation.RPY(0,0,0),kdl.Vector(-0.5,0,0))\n",
    "Q_goal = kdl.JntArray(6)\n",
    "ik_solver.CartToJnt(Q_start,tcp_goal,Q_goal)\n",
    "Q_goal"
   ]
  },
  {
   "cell_type": "code",
   "execution_count": null,
   "metadata": {},
   "outputs": [],
   "source": [
    "kdl.ChainDynParam"
   ]
  }
 ]
}